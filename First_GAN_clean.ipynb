version https://git-lfs.github.com/spec/v1
oid sha256:8e12886095bdbbcf76acb83f5c76668bfdba1c5b556b0db945b4afe37e39dcb7
size 27643412
